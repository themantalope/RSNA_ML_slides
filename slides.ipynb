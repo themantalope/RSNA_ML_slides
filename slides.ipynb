{
 "cells": [
  {
   "cell_type": "markdown",
   "metadata": {
    "slideshow": {
     "slide_type": "slide"
    }
   },
   "source": [
    "# Machine Learning: A Primer for Radiologists"
   ]
  },
  {
   "cell_type": "markdown",
   "metadata": {
    "slideshow": {
     "slide_type": "slide"
    }
   },
   "source": [
    "## Contents\n",
    "\n",
    "* Machine Learning Basics\n",
    "* Machine Learning Workflow\n",
    "* Commonly Used Models\n",
    "* Notes and Tips\n",
    "* Applications in Radiology"
   ]
  },
  {
   "cell_type": "markdown",
   "metadata": {
    "slideshow": {
     "slide_type": "slide"
    }
   },
   "source": [
    "### Machine Learning Basics\n",
    "* Unsupervised and Supervised\n",
    "* Bias and Variance\n",
    "* Model Specification and Training\n",
    "* Training and Testing\n",
    "* Example: Linear Regression\n",
    "  * Input and Output\n",
    "  * Parameter Estimation\n",
    "  * Training and Testing"
   ]
  },
  {
   "cell_type": "markdown",
   "metadata": {
    "slideshow": {
     "slide_type": "slide"
    }
   },
   "source": [
    "#### Unsupervised and Supervised Learning\n",
    "\n",
    "| Unsupervised | Supervised |\n",
    "| :-------------: | :-------------:|\n",
    "| Aims to \"summarize\" data  | Aims to \"learn\" a function or parameters of a function as a map between input data and output/prediction |\n",
    "| Methods to reduce dimensionality of data | Methods to train a system for prediction |\n",
    "| Clustering, Compression, Association Rules | Regression |"
   ]
  },
  {
   "cell_type": "markdown",
   "metadata": {
    "slideshow": {
     "slide_type": "subslide"
    }
   },
   "source": [
    "#### Supervised Learning\n",
    "* One of the most well known cases - linear regression\n",
    "* Task is to \"learn\" the values of a linear model that best fits the data\n",
    "\n",
    "<br>\n",
    "<br>\n",
    " <center> $$ Y = mx + b $$ </center>\n",
    "<br>\n",
    "<br>\n",
    "\n",
    "* Our goal here is to estimate what values of $m$ and $b$ best fit the data"
   ]
  },
  {
   "cell_type": "markdown",
   "metadata": {
    "slideshow": {
     "slide_type": "subslide"
    }
   },
   "source": [
    "#### Supervised Learning\n",
    "\n",
    "<table>\n",
    "  <tr>\n",
    "    <td> Classification by nearest neighbor voting </td>\n",
    "    <th rowspan=\"2\" style=\"width:40%\"><img src=\"assets/images/knn_regression.png\" alt='knn_regression'></th>\n",
    "  </tr>\n",
    "  <tr>\n",
    "    <td> A function of 2-dimensional input space is \"learned\" based on the majority voting of the 15 nearest neighbors in the dataset. <p> $$Y(x_{1}, x_{2}) = \\frac{1}{k} \\sum_{x_{i} \\in N_{k}(k)} y_{i}$$ </p> </td>\n",
    "  </tr>\n",
    "</table>\n",
    "\n",
    "\n",
    "<footer id=\"attribution\" style=\"float:left; color:#999; background:#fff;\">\n",
    "<a href=\"#/2\">Back to top</a>\n",
    "<p>Hastie T, Tibshirani R, Friedman J. The Elements of Statistical Learning, Data Mining, Inference, and Prediction. Springer Science & Business Media; 2013. Chapter 2, Page 7</p>\n",
    "</footer>"
   ]
  },
  {
   "cell_type": "markdown",
   "metadata": {
    "slideshow": {
     "slide_type": "subslide"
    }
   },
   "source": [
    "#### Unsupervised and Supervised Learning\n",
    "<table>\n",
    "  <tr>\n",
    "    <td>These methods are not exclusive of each other and can compliment each other!</td>\n",
    "    <th rowspan=\"2\" style=\"width:55%\"><img src=\"assets/images/gene_expression_regression.jpg\" alt='gene_express'></th>\n",
    "  </tr>\n",
    "  <tr>\n",
    "    <td>Example: reducing gene expression data to summarize the most important gene expression patterns of a dataset (unsupervised), which is then used to estimate survival (supervised).</td>\n",
    "  </tr>\n",
    "</table>\n",
    "\n",
    "\n",
    "<footer id=\"attribution\" style=\"float:left; color:#999; background:#fff;\">\n",
    "<a href=\"#/2\">Back to top</a>\n",
    "<p>Hastie T, Tibshirani R, Friedman J. The Elements of Statistical Learning, Data Mining, Inference, and Prediction. Springer Science & Business Media; 2013. Chapter 16 Page 29</p>\n",
    "</footer>"
   ]
  },
  {
   "cell_type": "code",
   "execution_count": 2,
   "metadata": {
    "collapsed": true,
    "slideshow": {
     "slide_type": "skip"
    }
   },
   "outputs": [
    {
     "name": "stderr",
     "output_type": "stream",
     "text": [
      "/home/matt/anaconda2/envs/py35/lib/python3.5/site-packages/ipykernel/__main__.py:10: RankWarning: Polyfit may be poorly conditioned\n"
     ]
    }
   ],
   "source": [
    "import matplotlib.pyplot as plt\n",
    "import numpy as np\n",
    "import os\n",
    "\n",
    "x = np.linspace(0, 500.0, num=50)\n",
    "x += abs(x.min()) + 1.0\n",
    "y = np.log(x) + np.random.normal(scale=0.25,size=(x.size,))\n",
    "\n",
    "p_lin = np.polyfit(x, y, 1)\n",
    "p_high = np.polyfit(x, y, 32)\n",
    "p_lin_y = np.polyval(p_lin, x)\n",
    "p_high_y = np.polyval(p_high, x)"
   ]
  },
  {
   "cell_type": "code",
   "execution_count": 9,
   "metadata": {
    "collapsed": true,
    "slideshow": {
     "slide_type": "skip"
    }
   },
   "outputs": [
    {
     "data": {
      "image/png": "[encoded data removed]",
      "text/plain": [
       "<matplotlib.figure.Figure at 0x7fe2289e0f98>"
      ]
     },
     "metadata": {},
     "output_type": "display_data"
    }
   ],
   "source": [
    "fig = plt.figure(figsize=(14,4))\n",
    "plt.subplot(121)\n",
    "plt.scatter(x, y, s=5)\n",
    "plt.text(0.05, 6.0, 'Linear Function')\n",
    "plt.plot(x, p_lin_y, color='r')\n",
    "\n",
    "plt.subplot(122)\n",
    "plt.scatter(x, y, s=5)\n",
    "plt.plot(x, p_high_y, color='r')\n",
    "plt.text(0.05, 6.0 , '$32^{ nd }$ degree polynomial')\n",
    "fig.savefig(os.path.join('assets', 'images', 'bias_var.png'), bbox_inches='tight')\n",
    "plt.show()"
   ]
  },
  {
   "cell_type": "markdown",
   "metadata": {
    "collapsed": true,
    "slideshow": {
     "slide_type": "subslide"
    }
   },
   "source": [
    " <h2> <center> <left> High bias </left> vs  <right> high variance </right>  </center> </h2>\n",
    "\n",
    "![pic](assets/images/bias_var.png)"
   ]
  },
  {
   "cell_type": "code",
   "execution_count": 168,
   "metadata": {
    "collapsed": true,
    "slideshow": {
     "slide_type": "skip"
    }
   },
   "outputs": [],
   "source": [
    "def cost(predictions, ground_truth):\n",
    "    total_cost = 0.0\n",
    "    for i in range(len(predictions)):\n",
    "        total_cost += (1.0 / 2.0) * (predictions[i] - ground_truth[i])**2.0\n",
    "    \n",
    "    total_cost /= float(len(predictions))\n",
    "    return total_cost\n",
    "    \n",
    "\n",
    "def hypothesis_function(m, x, b):\n",
    "    h = m * x + b\n",
    "    return h\n",
    "\n",
    "def gradients(m, b, x, ground_truth):\n",
    "    m_gradient = 0.0\n",
    "    b_gradient = 0.0\n",
    "    \n",
    "    predictions = []\n",
    "    \n",
    "    for i in range(len(x)):\n",
    "        predictions.append(hypothesis_function(m, x[i], b))\n",
    "    \n",
    "    for i in range(len(x)):\n",
    "        error = predictions[i] - ground_truth[i]\n",
    "        m_gradient += error * x[i]\n",
    "        b_gradient += error * 1.0\n",
    "        \n",
    "    m_gradient /= float(len(x))\n",
    "    b_gradient /= float(len(x))\n",
    "    \n",
    "    return m_gradient, b_gradient\n",
    "\n",
    "def update_parameters(m, b, m_gradient, b_gradient, alpha):\n",
    "    m_updated = m - (m_gradient * alpha)\n",
    "    b_updated = b - (b_gradient * alpha)\n",
    "    \n",
    "    return m_updated, b_updated\n",
    "\n",
    "\n",
    "def run_gradient_descent(x, y, m_init, b_init, alpha=0.01, num_iteration=1500, tol=1e-4):\n",
    "    \n",
    "    m = m_init\n",
    "    b = b_init\n",
    "    \n",
    "    m_vals = []\n",
    "    b_vals = []\n",
    "    costs = []\n",
    "    \n",
    "    for iteration_num in range(num_iteration):\n",
    "        #save the current values of m and b\n",
    "        m_vals.append(m)\n",
    "        b_vals.append(b)\n",
    "        \n",
    "        #make our predictions\n",
    "        predictions = []\n",
    "        for i in range(len(x)):\n",
    "            predictions.append(hypothesis_function(m, x[i], b))\n",
    "        \n",
    "        #compute the cost and save it\n",
    "        current_cost = cost(predictions, y)\n",
    "        costs.append(current_cost)\n",
    "        \n",
    "        if current_cost < tol: #check if we are done\n",
    "            break\n",
    "        else: \n",
    "            #compute the gradients\n",
    "            m_grad, b_grad = gradients(m, b, x, y)\n",
    "        \n",
    "            #update parameters m and b\n",
    "            m_new, b_new = update_parameters(m, b, m_grad, b_grad, alpha)\n",
    " \n",
    "            #reset m and b\n",
    "            m = m_new\n",
    "            b = b_new\n",
    "            \n",
    "    return m_vals, b_vals, costs\n",
    "        \n",
    "        \n",
    "    "
   ]
  },
  {
   "cell_type": "code",
   "execution_count": 169,
   "metadata": {
    "collapsed": true
   },
   "outputs": [
    {
     "data": {
      "image/png": "[encoded data removed]",
      "text/plain": [
       "<matplotlib.figure.Figure at 0x7fd499ffd8d0>"
      ]
     },
     "metadata": {},
     "output_type": "display_data"
    }
   ],
   "source": [
    "m_true = 3.5\n",
    "b_true = 4.0\n",
    "\n",
    "x = np.linspace(0, 10.0, num=1000)\n",
    "y = x * m_true + b_true + np.random.normal(scale=1.0,size=(x.size,))\n",
    "\n",
    "plt.scatter(x, y,s=1.0)\n",
    "plt.show()"
   ]
  },
  {
   "cell_type": "code",
   "execution_count": 191,
   "metadata": {
    "collapsed": true
   },
   "outputs": [],
   "source": [
    "mv, bv, c = run_gradient_descent(x, y, -1.0, 8.0)"
   ]
  },
  {
   "cell_type": "code",
   "execution_count": 192,
   "metadata": {},
   "outputs": [
    {
     "data": {
      "text/plain": [
       "[255.3849486930682,\n",
       " 112.58522366062482,\n",
       " 50.572830203730639,\n",
       " 23.639352790905459,\n",
       " 11.937618597457389,\n",
       " 6.8497337670416671,\n",
       " 4.6336995265629959,\n",
       " 3.6646924741107636,\n",
       " 3.2371935566210577,\n",
       " 3.0448573078104313,\n",
       " 2.9546644868113083,\n",
       " 2.9088562948025811,\n",
       " 2.8823529704264517,\n",
       " 2.8642644048652737,\n",
       " 2.8498618168422682,\n",
       " 2.837091752270239,\n",
       " 2.8250624187651723,\n",
       " 2.8133864329263352,\n",
       " 2.8018954328812349,\n",
       " 2.7905161594360912,\n",
       " 2.7792166489389611,\n",
       " 2.7679828695360551,\n",
       " 2.7568085763348096,\n",
       " 2.7456909063835511,\n",
       " 2.7346284659523392,\n",
       " 2.7236205000024043,\n",
       " 2.7126665315557434,\n",
       " 2.7017662051011451,\n",
       " 2.6909192185956332,\n",
       " 2.6801252939350309,\n",
       " 2.6693841641283771,\n",
       " 2.6586955677253981,\n",
       " 2.6480592463933323,\n",
       " 2.6374749438613017,\n",
       " 2.6269424054584349,\n",
       " 2.6164613779099111,\n",
       " 2.6060316092449556,\n",
       " 2.5956528487534647,\n",
       " 2.5853248469637862,\n",
       " 2.575047355629704,\n",
       " 2.5648201277214033,\n",
       " 2.5546429174182084,\n",
       " 2.544515480102099,\n",
       " 2.5344375723515888,\n",
       " 2.5244089519357482,\n",
       " 2.5144293778083364,\n",
       " 2.5044986101020323,\n",
       " 2.4946164101225961,\n",
       " 2.4847825403431658,\n",
       " 2.4749967643985316,\n",
       " 2.4652588470794581,\n",
       " 2.455568554327046,\n",
       " 2.4459256532270754,\n",
       " 2.4363299120044259,\n",
       " 2.4267811000175206,\n",
       " 2.417278987752753,\n",
       " 2.40782334681897,\n",
       " 2.3984139499420207,\n",
       " 2.3890505709592618,\n",
       " 2.3797329848141109,\n",
       " 2.3704609675506729,\n",
       " 2.361234296308333,\n",
       " 2.352052749316401,\n",
       " 2.3429161058887935,\n",
       " 2.3338241464187228,\n",
       " 2.3247766523734041,\n",
       " 2.3157734062888271,\n",
       " 2.3068141917645097,\n",
       " 2.2978987934583164,\n",
       " 2.2890269970812578,\n",
       " 2.2801985893923646,\n",
       " 2.2714133581935445,\n",
       " 2.2626710923244842,\n",
       " 2.2539715816575874,\n",
       " 2.2453146170929026,\n",
       " 2.2366999905531233,\n",
       " 2.2281274949785597,\n",
       " 2.2195969243221798,\n",
       " 2.21110807354466,\n",
       " 2.2026607386094299,\n",
       " 2.1942547164777988,\n",
       " 2.1858898051040665,\n",
       " 2.1775658034306571,\n",
       " 2.1692825113832921,\n",
       " 2.1610397298661881,\n",
       " 2.1528372607572637,\n",
       " 2.1446749069033841,\n",
       " 2.1365524721156079,\n",
       " 2.1284697611644914,\n",
       " 2.1204265797753798,\n",
       " 2.112422734623733,\n",
       " 2.1044580333305247,\n",
       " 2.0965322844575458,\n",
       " 2.0886452975028633,\n",
       " 2.0807968828962218,\n",
       " 2.072986851994461,\n",
       " 2.0652150170770209,\n",
       " 2.0574811913414188,\n",
       " 2.0497851888987384,\n",
       " 2.0421268247691948,\n",
       " 2.034505914877657,\n",
       " 2.0269222760492434,\n",
       " 2.0193757260049146,\n",
       " 2.0118660833570901,\n",
       " 2.0043931676052869,\n",
       " 1.9969567991317796,\n",
       " 1.9895567991973062,\n",
       " 1.9821929899367239,\n",
       " 1.9748651943547866,\n",
       " 1.9675732363218537,\n",
       " 1.9603169405696725,\n",
       " 1.9530961326871685,\n",
       " 1.9459106391162388,\n",
       " 1.9387602871475929,\n",
       " 1.931644904916608,\n",
       " 1.9245643213991686,\n",
       " 1.9175183664075834,\n",
       " 1.9105068705864985,\n",
       " 1.903529665408793,\n",
       " 1.896586583171568,\n",
       " 1.8896774569920853,\n",
       " 1.8828021208037771,\n",
       " 1.875960409352244,\n",
       " 1.8691521581912816,\n",
       " 1.8623772036789401,\n",
       " 1.8556353829735617,\n",
       " 1.8489265340299175,\n",
       " 1.8422504955952612,\n",
       " 1.8356071072054716,\n",
       " 1.8289962091812133,\n",
       " 1.8224176426240712,\n",
       " 1.8158712494127565,\n",
       " 1.8093568721992808,\n",
       " 1.8028743544051908,\n",
       " 1.7964235402178006,\n",
       " 1.7900042745864508,\n",
       " 1.7836164032187767,\n",
       " 1.7772597725769954,\n",
       " 1.7709342298742234,\n",
       " 1.7646396230708081,\n",
       " 1.7583758008706454,\n",
       " 1.7521426127176047,\n",
       " 1.7459399087918281,\n",
       " 1.7397675400061856,\n",
       " 1.7336253580026959,\n",
       " 1.7275132151489152,\n",
       " 1.7214309645344326,\n",
       " 1.7153784599673101,\n",
       " 1.709355555970598,\n",
       " 1.7033621077788035,\n",
       " 1.6973979713344289,\n",
       " 1.6914630032845215,\n",
       " 1.6855570609772101,\n",
       " 1.6796800024582736,\n",
       " 1.6738316864677458,\n",
       " 1.668011972436503,\n",
       " 1.6622207204829083,\n",
       " 1.656457791409415,\n",
       " 1.6507230466992493,\n",
       " 1.645016348513078,\n",
       " 1.6393375596856739,\n",
       " 1.6336865437226473,\n",
       " 1.6280631647971522,\n",
       " 1.6224672877466151,\n",
       " 1.6168987780695034,\n",
       " 1.6113575019220578,\n",
       " 1.6058433261151301,\n",
       " 1.6003561181109347,\n",
       " 1.5948957460198785,\n",
       " 1.5894620785973972,\n",
       " 1.5840549852407952,\n",
       " 1.5786743359860975,\n",
       " 1.5733200015049551,\n",
       " 1.5679918531014907,\n",
       " 1.5626897627092566,\n",
       " 1.5574136028881029,\n",
       " 1.5521632468211737,\n",
       " 1.5469385683118015,\n",
       " 1.5417394417805159,\n",
       " 1.5365657422620009,\n",
       " 1.5314173454021021,\n",
       " 1.5262941274548392,\n",
       " 1.5211959652794274,\n",
       " 1.5161227363373095,\n",
       " 1.5110743186892275,\n",
       " 1.5060505909922817,\n",
       " 1.5010514324970221,\n",
       " 1.4960767230445255,\n",
       " 1.4911263430635346,\n",
       " 1.486200173567561,\n",
       " 1.4812980961520412,\n",
       " 1.4764199929914883,\n",
       " 1.4715657468366463,\n",
       " 1.4667352410116923,\n",
       " 1.4619283594114192,\n",
       " 1.4571449864984372,\n",
       " 1.4523850073004287,\n",
       " 1.447648307407339,\n",
       " 1.4429347729686708,\n",
       " 1.4382442906907169,\n",
       " 1.4335767478338499,\n",
       " 1.4289320322098076,\n",
       " 1.424310032179013,\n",
       " 1.4197106366478576,\n",
       " 1.4151337350660582,\n",
       " 1.4105792174240046,\n",
       " 1.4060469742500803,\n",
       " 1.4015368966080732,\n",
       " 1.3970488760945359,\n",
       " 1.3925828048361706,\n",
       " 1.3881385754872579,\n",
       " 1.3837160812270628,\n",
       " 1.3793152157572695,\n",
       " 1.3749358732994383,\n",
       " 1.3705779485924408,\n",
       " 1.3662413368899509,\n",
       " 1.3619259339579062,\n",
       " 1.357631636072032,\n",
       " 1.35335834001532,\n",
       " 1.349105943075551,\n",
       " 1.3448743430428516,\n",
       " 1.3406634382072065,\n",
       " 1.3364731273560282,\n",
       " 1.3323033097717298,\n",
       " 1.3281538852292847,\n",
       " 1.3240247539938435,\n",
       " 1.3199158168183096,\n",
       " 1.3158269749409832,\n",
       " 1.3117581300831553,\n",
       " 1.3077091844467723,\n",
       " 1.3036800407120721,\n",
       " 1.2996706020352482,\n",
       " 1.2956807720461216,\n",
       " 1.291710454845818,\n",
       " 1.2877595550044811,\n",
       " 1.2838279775589607,\n",
       " 1.2799156280105275,\n",
       " 1.2760224123226314,\n",
       " 1.2721482369186023,\n",
       " 1.2682930086794209,\n",
       " 1.2644566349414945,\n",
       " 1.2606390234943938,\n",
       " 1.2568400825786665,\n",
       " 1.2530597208836223,\n",
       " 1.249297847545138,\n",
       " 1.245554372143467,\n",
       " 1.2418292047010815,\n",
       " 1.2381222556804952,\n",
       " 1.2344334359821196,\n",
       " 1.2307626569421148,\n",
       " 1.2271098303302674,\n",
       " 1.2234748683478605,\n",
       " 1.219857683625577,\n",
       " 1.2162581892213815,\n",
       " 1.2126762986184503,\n",
       " 1.2091119257230734,\n",
       " 1.2055649848625936,\n",
       " 1.2020353907833508,\n",
       " 1.1985230586486235,\n",
       " 1.1950279040366072,\n",
       " 1.1915498429383597,\n",
       " 1.1880887917558047,\n",
       " 1.1846446672997082,\n",
       " 1.1812173867876885,\n",
       " 1.1778068678422147,\n",
       " 1.1744130284886451,\n",
       " 1.1710357871532338,\n",
       " 1.1676750626611951,\n",
       " 1.1643307742347249,\n",
       " 1.1610028414910818,\n",
       " 1.1576911844406474,\n",
       " 1.1543957234850026,\n",
       " 1.1511163794150121,\n",
       " 1.1478530734089263,\n",
       " 1.144605727030481,\n",
       " 1.1413742622270113,\n",
       " 1.1381586013275926,\n",
       " 1.1349586670411465,\n",
       " 1.1317743824546016,\n",
       " 1.1286056710310446,\n",
       " 1.125452456607867,\n",
       " 1.1223146633949508,\n",
       " 1.1191922159728334,\n",
       " 1.1160850392909094,\n",
       " 1.1129930586656098,\n",
       " 1.1099161997786249,\n",
       " 1.1068543886750941,\n",
       " 1.103807551761858,\n",
       " 1.1007756158056645,\n",
       " 1.0977585079314212,\n",
       " 1.094756155620443,\n",
       " 1.0917684867087072,\n",
       " 1.0887954293851108,\n",
       " 1.0858369121897606,\n",
       " 1.0828928640122484,\n",
       " 1.0799632140899342,\n",
       " 1.0770478920062567,\n",
       " 1.0741468276890365,\n",
       " 1.0712599514087844,\n",
       " 1.0683871937770437,\n",
       " 1.065528485744702,\n",
       " 1.062683758600345,\n",
       " 1.0598529439685955,\n",
       " 1.0570359738084851,\n",
       " 1.0542327804117986,\n",
       " 1.0514432964014619,\n",
       " 1.0486674547299177,\n",
       " 1.0459051886775104,\n",
       " 1.0431564318508872,\n",
       " 1.0404211181814,\n",
       " 1.0376991819235215,\n",
       " 1.0349905576532588,\n",
       " 1.032295180266581,\n",
       " 1.0296129849778612,\n",
       " 1.0269439073183182,\n",
       " 1.0242878831344528,\n",
       " 1.0216448485865295,\n",
       " 1.0190147401470184,\n",
       " 1.0163974945990886,\n",
       " 1.0137930490350766,\n",
       " 1.0112013408549692,\n",
       " 1.0086223077649186,\n",
       " 1.00605588777573,\n",
       " 1.0035020192013662,\n",
       " 1.0009606406574896,\n",
       " 0.99843169105995355,\n",
       " 0.99591510962336338,\n",
       " 0.99341083585959711,\n",
       " 0.99091880957636669,\n",
       " 0.98843897087575172,\n",
       " 0.98597126015277414,\n",
       " 0.98351561809396437,\n",
       " 0.98107198567593112,\n",
       " 0.97864030416394376,\n",
       " 0.97622051511052554,\n",
       " 0.97381256035404162,\n",
       " 0.9714163820173034,\n",
       " 0.96903192250617887,\n",
       " 0.96665912450821134,\n",
       " 0.96429793099123673,\n",
       " 0.96194828520200604,\n",
       " 0.95961013066484224,\n",
       " 0.95728341118026461,\n",
       " 0.95496807082363955,\n",
       " 0.95266405394384757,\n",
       " 0.95037130516192792,\n",
       " 0.94808976936977341,\n",
       " 0.94581939172877338,\n",
       " 0.9435601176685271,\n",
       " 0.94131189288550987,\n",
       " 0.93907466334177092,\n",
       " 0.93684837526364895,\n",
       " 0.93463297514046861,\n",
       " 0.93242840972325092,\n",
       " 0.93023462602343854,\n",
       " 0.92805157131162219,\n",
       " 0.92587919311627953,\n",
       " 0.92371743922249316,\n",
       " 0.92156625767072464,\n",
       " 0.91942559675553703,\n",
       " 0.91729540502437756,\n",
       " 0.9151756312763214,\n",
       " 0.91306622456084752,\n",
       " 0.91096713417662389,\n",
       " 0.90887830967027239,\n",
       " 0.90679970083516337,\n",
       " 0.90473125771021501,\n",
       " 0.90267293057867981,\n",
       " 0.90062466996696466,\n",
       " 0.89858642664342547,\n",
       " 0.89655815161719565,\n",
       " 0.89453979613700696,\n",
       " 0.89253131169001509,\n",
       " 0.89053265000062709,\n",
       " 0.88854376302935922,\n",
       " 0.88656460297166151,\n",
       " 0.88459512225678638,\n",
       " 0.88263527354662985,\n",
       " 0.88068500973460684,\n",
       " 0.87874428394451221,\n",
       " 0.87681304952938954,\n",
       " 0.87489126007042661,\n",
       " 0.87297886937581426,\n",
       " 0.87107583147966561,\n",
       " 0.86918210064088397,\n",
       " 0.86729763134208016,\n",
       " 0.86542237828847457,\n",
       " 0.8635562964068072,\n",
       " 0.86169934084425537,\n",
       " 0.85985146696734949,\n",
       " 0.85801263036091491,\n",
       " 0.8561827868269859,\n",
       " 0.8543618923837647,\n",
       " 0.85254990326453783,\n",
       " 0.85074677591664916,\n",
       " 0.84895246700043991,\n",
       " 0.84716693338820781,\n",
       " 0.84539013216317216,\n",
       " 0.84362202061844882,\n",
       " 0.84186255625600581,\n",
       " 0.84011169678566244,\n",
       " 0.83836940012406291,\n",
       " 0.83663562439366046,\n",
       " 0.83491032792172082,\n",
       " 0.83319346923931581,\n",
       " 0.83148500708032136,\n",
       " 0.82978490038043884,\n",
       " 0.82809310827619165,\n",
       " 0.82640959010395776,\n",
       " 0.8247343053989783,\n",
       " 0.82306721389440396,\n",
       " 0.82140827552030804,\n",
       " 0.81975745040273029,\n",
       " 0.81811469886272259,\n",
       " 0.81647998141539191,\n",
       " 0.8148532587689481,\n",
       " 0.81323449182376828,\n",
       " 0.81162364167144541,\n",
       " 0.81002066959386176,\n",
       " 0.80842553706225773,\n",
       " 0.80683820573630316,\n",
       " 0.80525863746316795,\n",
       " 0.80368679427662637,\n",
       " 0.80212263839612308,\n",
       " 0.80056613222587414,\n",
       " 0.79901723835396743,\n",
       " 0.79747591955145558,\n",
       " 0.79594213877146214,\n",
       " 0.79441585914829982,\n",
       " 0.79289704399656824,\n",
       " 0.79138565681029038,\n",
       " 0.78988166126202086,\n",
       " 0.78838502120198939,\n",
       " 0.78689570065719938,\n",
       " 0.78541366383060396,\n",
       " 0.78393887510022264,\n",
       " 0.78247129901828494,\n",
       " 0.78101090031038511,\n",
       " 0.77955764387462834,\n",
       " 0.77811149478079256,\n",
       " 0.7766724182694873,\n",
       " 0.77524037975131521,\n",
       " 0.77381534480604786,\n",
       " 0.77239727918178802,\n",
       " 0.77098614879415051,\n",
       " 0.76958191972545165,\n",
       " 0.76818455822388465,\n",
       " 0.7667940307027018,\n",
       " 0.76541030373942465,\n",
       " 0.76403334407503398,\n",
       " 0.76266311861315816,\n",
       " 0.76129959441929429,\n",
       " 0.75994273872001328,\n",
       " 0.75859251890215829,\n",
       " 0.7572489025120831,\n",
       " 0.75591185725485011,\n",
       " 0.75458135099346901,\n",
       " 0.75325735174812425,\n",
       " 0.75193982769539403,\n",
       " 0.75062874716749584,\n",
       " 0.74932407865152717,\n",
       " 0.74802579078869635,\n",
       " 0.74673385237357659,\n",
       " 0.74544823235336499,\n",
       " 0.74416889982711265,\n",
       " 0.74289582404500609,\n",
       " 0.74162897440761466,\n",
       " 0.74036832046515577,\n",
       " 0.73911383191677027,\n",
       " 0.73786547860978335,\n",
       " 0.73662323053899303,\n",
       " 0.73538705784593528,\n",
       " 0.73415693081817546,\n",
       " 0.73293281988859349,\n",
       " 0.73171469563467084,\n",
       " 0.73050252877777477,\n",
       " 0.72929629018247599,\n",
       " 0.72809595085583312,\n",
       " 0.72690148194668869,\n",
       " 0.72571285474500102,\n",
       " 0.72453004068112592,\n",
       " 0.72335301132514962,\n",
       " 0.72218173838619526,\n",
       " 0.72101619371174808,\n",
       " 0.71985634928697839,\n",
       " 0.71870217723405994,\n",
       " 0.71755364981151626,\n",
       " 0.71641073941353572,\n",
       " 0.71527341856932303,\n",
       " 0.71414165994242651,\n",
       " 0.71301543633009556,\n",
       " 0.71189472066260628,\n",
       " 0.71077948600263119,\n",
       " 0.70966970554458564,\n",
       " 0.70856535261397235,\n",
       " 0.70746640066675515,\n",
       " 0.70637282328871598,\n",
       " 0.70528459419481393,\n",
       " 0.7042016872285598,\n",
       " 0.70312407636139296,\n",
       " 0.70205173569203816,\n",
       " 0.70098463944590261,\n",
       " 0.69992276197444436,\n",
       " 0.69886607775455489,\n",
       " 0.69781456138795872,\n",
       " 0.69676818760058434,\n",
       " 0.69572693124197482,\n",
       " 0.69469076728467016,\n",
       " 0.69365967082360869,\n",
       " 0.69263361707553783,\n",
       " 0.69161258137840143,\n",
       " 0.69059653919076147,\n",
       " 0.68958546609120319,\n",
       " 0.6885793377777476,\n",
       " 0.68757813006726665,\n",
       " 0.68658181889490566,\n",
       " 0.68559038031349628,\n",
       " 0.6846037904929938,\n",
       " 0.68362202571989505,\n",
       " 0.68264506239666811,\n",
       " 0.68167287704119317,\n",
       " 0.68070544628618657,\n",
       " 0.67974274687865144,\n",
       " 0.67878475567930929,\n",
       " 0.67783144966204834,\n",
       " 0.67688280591336736,\n",
       " 0.67593880163183107,\n",
       " 0.67499941412751086,\n",
       " 0.67406462082145346,\n",
       " 0.6731343992451243,\n",
       " 0.67220872703988133,\n",
       " 0.67128758195642058,\n",
       " 0.67037094185426216,\n",
       " 0.66945878470119979,\n",
       " 0.66855108857278078,\n",
       " 0.66764783165177555,\n",
       " 0.66674899222765938,\n",
       " 0.66585454869607941,\n",
       " 0.66496447955834437,\n",
       " 0.66407876342090655,\n",
       " 0.66319737899484366,\n",
       " 0.66232030509535089,\n",
       " 0.66144752064123302,\n",
       " 0.66057900465439023,\n",
       " 0.65971473625932298,\n",
       " 0.65885469468262192,\n",
       " 0.65799885925247914,\n",
       " 0.65714720939817639,\n",
       " 0.65629972464961051,\n",
       " 0.65545638463677602,\n",
       " 0.65461716908930279,\n",
       " 0.653782057835949,\n",
       " 0.65295103080412109,\n",
       " 0.65212406801939826,\n",
       " 0.65130114960504482,\n",
       " 0.65048225578153529,\n",
       " 0.64966736686607718,\n",
       " 0.64885646327214019,\n",
       " 0.64804952550898887,\n",
       " 0.64724653418119882,\n",
       " 0.64644746998821301,\n",
       " 0.64565231372386178,\n",
       " 0.64486104627590479,\n",
       " 0.64407364862557248,\n",
       " 0.64329010184710878,\n",
       " 0.64251038710732289,\n",
       " 0.64173448566512092,\n",
       " 0.64096237887107022,\n",
       " 0.64019404816694525,\n",
       " 0.63942947508527914,\n",
       " 0.63866864124892553,\n",
       " 0.63791152837061382,\n",
       " 0.63715811825250912,\n",
       " 0.63640839278577288,\n",
       " 0.63566233395013472,\n",
       " 0.63491992381344997,\n",
       " 0.63418114453128061,\n",
       " 0.63344597834645056,\n",
       " 0.63271440758863229,\n",
       " 0.63198641467391758,\n",
       " 0.63126198210439188,\n",
       " 0.63054109246772239,\n",
       " 0.62982372843672429,\n",
       " 0.62910987276896391,\n",
       " 0.62839950830632574,\n",
       " 0.62769261797461096,\n",
       " 0.62698918478312671,\n",
       " 0.62628919182427489,\n",
       " 0.62559262227314105,\n",
       " 0.62489945938710223,\n",
       " 0.62420968650541309,\n",
       " 0.62352328704881099,\n",
       " 0.62284024451911735,\n",
       " 0.62216054249883679,\n",
       " 0.6214841646507705,\n",
       " 0.62081109471761575,\n",
       " 0.62014131652158133,\n",
       " 0.61947481396399007,\n",
       " 0.61881157102490192,\n",
       " 0.61815157176272606,\n",
       " 0.61749480031383019,\n",
       " 0.61684124089216885,\n",
       " 0.61619087778890103,\n",
       " 0.61554369537201203,\n",
       " 0.61489967808593426,\n",
       " 0.61425881045118103,\n",
       " 0.61362107706396496,\n",
       " 0.61298646259583822,\n",
       " 0.61235495179331467,\n",
       " 0.61172652947750916,\n",
       " 0.61110118054377427,\n",
       " 0.61047888996132427,\n",
       " 0.60985964277289462,\n",
       " 0.60924342409436394,\n",
       " 0.60863021911440829,\n",
       " 0.60802001309413245,\n",
       " 0.60741279136673687,\n",
       " 0.60680853933713907,\n",
       " 0.60620724248164226,\n",
       " 0.60560888634757959,\n",
       " 0.60501345655296324,\n",
       " 0.60442093878614589,\n",
       " 0.60383131880547514,\n",
       " 0.6032445824389423,\n",
       " 0.60266071558385537,\n",
       " 0.60207970420648971,\n",
       " 0.60150153434175524,\n",
       " 0.60092619209286158,\n",
       " 0.60035366363098008,\n",
       " 0.59978393519491546,\n",
       " 0.59921699309077248,\n",
       " 0.59865282369162809,\n",
       " 0.59809141343720607,\n",
       " 0.59753274883354057,\n",
       " 0.59697681645266942,\n",
       " 0.59642360293229546,\n",
       " 0.5958730949754738,\n",
       " 0.59532527935029134,\n",
       " 0.59478014288954406,\n",
       " 0.59423767249042481,\n",
       " 0.59369785511420869,\n",
       " 0.59316067778594095,\n",
       " 0.5926261275941147,\n",
       " 0.59209419169037669,\n",
       " 0.59156485728920472,\n",
       " 0.59103811166761044,\n",
       " 0.590513942164825,\n",
       " 0.58999233618199987,\n",
       " 0.58947328118190434,\n",
       " 0.58895676468862046,\n",
       " 0.58844277428724745,\n",
       " 0.58793129762359952,\n",
       " 0.58742232240390946,\n",
       " 0.58691583639454226,\n",
       " 0.58641182742168152,\n",
       " 0.585910283371055,\n",
       " 0.58541119218763793,\n",
       " 0.58491454187535852,\n",
       " 0.58442032049681591,\n",
       " 0.58392851617299069,\n",
       " 0.58343911708295604,\n",
       " 0.58295211146360304,\n",
       " 0.5824674876093463,\n",
       " 0.58198523387184864,\n",
       " 0.58150533865974108,\n",
       " 0.58102779043835229,\n",
       " 0.58055257772940738,\n",
       " 0.58007968911077634,\n",
       " 0.57960911321619335,\n",
       " 0.57914083873497346,\n",
       " 0.57867485441175348,\n",
       " 0.57821114904621362,\n",
       " 0.57774971149280963,\n",
       " 0.57729053066051106,\n",
       " 0.57683359551252356,\n",
       " 0.57637889506603412,\n",
       " 0.57592641839193992,\n",
       " 0.57547615461458934,\n",
       " 0.57502809291151791,\n",
       " 0.57458222251319435,\n",
       " 0.57413853270275284,\n",
       " 0.57369701281574215,\n",
       " 0.57325765223986569,\n",
       " 0.57282044041472735,\n",
       " 0.57238536683157892,\n",
       " 0.57195242103306709,\n",
       " 0.57152159261298008,\n",
       " 0.57109287121600116,\n",
       " 0.57066624653745546,\n",
       " 0.5702417083230652,\n",
       " 0.56981924636870496,\n",
       " 0.5693988505201486,\n",
       " 0.56898051067283562,\n",
       " 0.56856421677162117,\n",
       " 0.56814995881053554,\n",
       " 0.56773772683254697,\n",
       " 0.56732751092931533,\n",
       " 0.56691930124096623,\n",
       " 0.56651308795583899,\n",
       " 0.56610886131026006,\n",
       " 0.56570661158830926,\n",
       " 0.56530632912157974,\n",
       " 0.56490800428895027,\n",
       " 0.5645116275163562,\n",
       " 0.56411718927655086,\n",
       " 0.56372468008888532,\n",
       " 0.56333409051907746,\n",
       " 0.56294541117898167,\n",
       " 0.5625586327263693,\n",
       " 0.56217374586469815,\n",
       " 0.56179074134289619,\n",
       " 0.56140960995513034,\n",
       " 0.56103034254059059,\n",
       " 0.56065292998327532,\n",
       " 0.56027736321175725,\n",
       " 0.55990363319897907,\n",
       " 0.55953173096202935,\n",
       " 0.5591616475619331,\n",
       " 0.55879337410342578,\n",
       " 0.55842690173475062,\n",
       " 0.55806222164744057,\n",
       " 0.55769932507610886,\n",
       " 0.55733820329823536,\n",
       " 0.55697884763395777,\n",
       " 0.556621249445865,\n",
       " 0.55626540013879089,\n",
       " 0.55591129115960036,\n",
       " 0.55555891399699175,\n",
       " 0.555208260181286,\n",
       " 0.55485932128423188,\n",
       " 0.55451208891879056,\n",
       " 0.55416655473894838,\n",
       " 0.55382271043950126,\n",
       " 0.5534805477558663,\n",
       " 0.55314005846388303,\n",
       " 0.55280123437960738,\n",
       " 0.55246406735912412,\n",
       " 0.55212854929834188,\n",
       " 0.55179467213280586,\n",
       " 0.5514624278375051,\n",
       " 0.55113180842667064,\n",
       " 0.55080280595359044,\n",
       " 0.55047541251041976,\n",
       " 0.55014962022798319,\n",
       " 0.54982542127559475,\n",
       " 0.54950280786086536,\n",
       " 0.54918177222951192,\n",
       " 0.54886230666517877,\n",
       " 0.54854440348924538,\n",
       " 0.54822805506064654,\n",
       " 0.54791325377568489,\n",
       " 0.54759999206785281,\n",
       " 0.54728826240764228,\n",
       " 0.5469780573023757,\n",
       " 0.54666936929601517,\n",
       " 0.5463621909689883,\n",
       " 0.54605651493801033,\n",
       " 0.54575233385590405,\n",
       " 0.54544964041142563,\n",
       " 0.54514842732908775,\n",
       " 0.54484868736898495,\n",
       " 0.54455041332661724,\n",
       " 0.54425359803272211,\n",
       " 0.54395823435309609,\n",
       " 0.54366431518843272,\n",
       " 0.54337183347413709,\n",
       " 0.54308078218017086,\n",
       " 0.54279115431087532,\n",
       " 0.5425029429048045,\n",
       " 0.54221614103455851,\n",
       " 0.54193074180661738,\n",
       " 0.54164673836117172,\n",
       " 0.54136412387196675,\n",
       " 0.54108289154612776,\n",
       " 0.54080303462400248,\n",
       " 0.54052454637899938,\n",
       " 0.54024742011742055,\n",
       " 0.53997164917830864,\n",
       " 0.53969722693327915,\n",
       " 0.53942414678636741,\n",
       " 0.53915240217386473,\n",
       " 0.53888198656416531,\n",
       " 0.53861289345760599,\n",
       " 0.53834511638631066,\n",
       " 0.53807864891403645,\n",
       " 0.53781348463601408,\n",
       " 0.53754961717880378,\n",
       " 0.53728704020013074,\n",
       " 0.53702574738874098,\n",
       " 0.53676573246424475,\n",
       " 0.53650698917696793,\n",
       " 0.53624951130780119,\n",
       " 0.53599329266805085,\n",
       " 0.53573832709929015,\n",
       " 0.53548460847320956,\n",
       " 0.5352321306914728,\n",
       " 0.5349808876855654,\n",
       " 0.53473087341665537,\n",
       " 0.53448208187544188,\n",
       " 0.5342345070820147,\n",
       " 0.53398814308570852,\n",
       " 0.53374298396495923,\n",
       " 0.53349902382716696,\n",
       " 0.53325625680854505,\n",
       " 0.53301467707398853,\n",
       " 0.53277427881692918,\n",
       " 0.53253505625919251,\n",
       " 0.53229700365086996,\n",
       " 0.53206011527016706,\n",
       " 0.53182438542327859,\n",
       " 0.53158980844423853,\n",
       " 0.53135637869479713,\n",
       " 0.53112409056427645,\n",
       " 0.53089293846943864,\n",
       " 0.53066291685435407,\n",
       " 0.53043402019025809,\n",
       " 0.53020624297543495,\n",
       " 0.52997957973506593,\n",
       " 0.52975402502111546,\n",
       " 0.52952957341218743,\n",
       " 0.52930621951340384,\n",
       " 0.52908395795626573,\n",
       " 0.52886278339853265,\n",
       " 0.52864269052409285,\n",
       " 0.52842367404283208,\n",
       " 0.52820572869050575,\n",
       " 0.52798884922861733,\n",
       " 0.52777303044428991,\n",
       " 0.52755826715014031,\n",
       " 0.5273445541841546,\n",
       " 0.5271318864095641,\n",
       " 0.52692025871472326,\n",
       " 0.52670966601298641,\n",
       " 0.52650010324258023,\n",
       " 0.52629156536649313,\n",
       " 0.52608404737234227,\n",
       " 0.52587754427226252,\n",
       " 0.52567205110277859,\n",
       " 0.52546756292469554,\n",
       " 0.52526407482296633,\n",
       " 0.52506158190659091,\n",
       " 0.52486007930848011,\n",
       " 0.52465956218535259,\n",
       " 0.52446002571761385,\n",
       " 0.5242614651092421,\n",
       " 0.52406387558766421,\n",
       " 0.52386725240365373,\n",
       " 0.52367159083121306,\n",
       " 0.52347688616745025,\n",
       " 0.52328313373247737,\n",
       " 0.52309032886929618,\n",
       " 0.52289846694368203,\n",
       " 0.5227075433440731,\n",
       " 0.52251755348146356,\n",
       " 0.5223284927892895,\n",
       " 0.52214035672332038,\n",
       " 0.52195314076155008,\n",
       " 0.52176684040408916,\n",
       " 0.52158145117305177,\n",
       " 0.52139696861245555,\n",
       " 0.52121338828810948,\n",
       " 0.52103070578750843,\n",
       " 0.52084891671972666,\n",
       " 0.52066801671531426,\n",
       " 0.52048800142618845,\n",
       " 0.52030886652553265,\n",
       " 0.5201306077076937,\n",
       " 0.51995322068806882,\n",
       " 0.51977670120301889,\n",
       " 0.51960104500974769,\n",
       " 0.51942624788621661,\n",
       " 0.5192523056310292,\n",
       " 0.51907921406334068,\n",
       " 0.51890696902275224,\n",
       " 0.51873556636921103,\n",
       " 0.51856500198291167,\n",
       " 0.51839527176419953,\n",
       " 0.51822637163346597,\n",
       " 0.51805829753105925,\n",
       " 0.51789104541717457,\n",
       " 0.51772461127177405,\n",
       " 0.51755899109447256,\n",
       " 0.51739418090445277,\n",
       " 0.51723017674036276,\n",
       " 0.51706697466023011,\n",
       " 0.51690457074135632,\n",
       " 0.51674296108022755,\n",
       " 0.5165821417924219,\n",
       " 0.51642210901251662,\n",
       " 0.51626285889398926,\n",
       " 0.51610438760913213,\n",
       " 0.51594669134895721,\n",
       " 0.51578976632310269,\n",
       " 0.51563360875974751,\n",
       " 0.5154782149055126,\n",
       " 0.51532358102538056,\n",
       " 0.5151697034025966,\n",
       " 0.51501657833858605,\n",
       " 0.51486420215285955,\n",
       " 0.51471257118292968,\n",
       " 0.51456168178422013,\n",
       " 0.51441153032998066,\n",
       " 0.51426211321119508,\n",
       " 0.51411342683650019,\n",
       " 0.51396546763209527,\n",
       " 0.51381823204165911,\n",
       " 0.51367171652626031,\n",
       " 0.51352591756427957,\n",
       " 0.51338083165131665,\n",
       " 0.51323645530011142,\n",
       " 0.51309278504045919,\n",
       " 0.51294981741912704,\n",
       " 0.51280754899976777,\n",
       " 0.5126659763628435,\n",
       " 0.51252509610553898,\n",
       " 0.51238490484167942,\n",
       " 0.51224539920165157,\n",
       " 0.51210657583232311,\n",
       " 0.51196843139695791,\n",
       " 0.51183096257514094,\n",
       " 0.5116941660626958,\n",
       " 0.51155803857160298,\n",
       " 0.51142257682992676,\n",
       " 0.51128777758173238,\n",
       " 0.51115363758700794,\n",
       " 0.51102015362158659,\n",
       " 0.51088732247707169,\n",
       " 0.51075514096075669,\n",
       " 0.51062360589554856,\n",
       " 0.5104927141198945,\n",
       " 0.51036246248770045,\n",
       " 0.51023284786826195,\n",
       " 0.5101038671461835,\n",
       " 0.50997551722130585,\n",
       " 0.50984779500863509,\n",
       " 0.50972069743825854,\n",
       " 0.50959422145528332,\n",
       " 0.50946836401975348,\n",
       " 0.50934312210658195,\n",
       " 0.50921849270547426,\n",
       " 0.50909447282085973,\n",
       " 0.50897105947181809,\n",
       " 0.50884824969201004,\n",
       " 0.50872604052959514,\n",
       " 0.50860442904718006,\n",
       " 0.50848341232172856,\n",
       " 0.50836298744450559,\n",
       " 0.50824315152099842,\n",
       " 0.50812390167085153,\n",
       " 0.50800523502779615,\n",
       " 0.50788714873958174,\n",
       " 0.50776963996790592,\n",
       " 0.5076527058883481,\n",
       " 0.50753634369030087,\n",
       " 0.50742055057690238,\n",
       " 0.50730532376496873,\n",
       " 0.50719066048492889,\n",
       " 0.50707655798075568,\n",
       " 0.50696301350990103,\n",
       " 0.5068500243432299,\n",
       " 0.50673758776495204,\n",
       " 0.50662570107256344,\n",
       " 0.50651436157677399,\n",
       " 0.50640356660144725,\n",
       " 0.5062933134835329,\n",
       " 0.50618359957300629,\n",
       " 0.5060744222328033,\n",
       " 0.50596577883875637,\n",
       " 0.50585766677953037,\n",
       " 0.50575008345656391,\n",
       " 0.50564302628400137,\n",
       " 0.50553649268863543,\n",
       " 0.50543048010984293,\n",
       " 0.50532498599952402,\n",
       " 0.50522000782203935,\n",
       " 0.50511554305415318,\n",
       " 0.50501158918496625,\n",
       " 0.50490814371586268,\n",
       " 0.50480520416044294,\n",
       " 0.50470276804447345,\n",
       " 0.50460083290581415,\n",
       " 0.50449939629437013,\n",
       " 0.50439845577202835,\n",
       " 0.50429800891259979,\n",
       " 0.50419805330176226,\n",
       " 0.50409858653699902,\n",
       " 0.50399960622754225,\n",
       " 0.50390110999431981,\n",
       " 0.50380309546989466,\n",
       " 0.50370556029840341,\n",
       " 0.50360850213550989,\n",
       " 0.50351191864833966,\n",
       " 0.50341580751542725,\n",
       " 0.50332016642666555,\n",
       " 0.50322499308323854,\n",
       " 0.50313028519757763,\n",
       " 0.5030360404933002,\n",
       " 0.5029422567051558,\n",
       " 0.50284893157897481,\n",
       " 0.50275606287160923,\n",
       " ...]"
      ]
     },
     "execution_count": 192,
     "metadata": {},
     "output_type": "execute_result"
    }
   ],
   "source": [
    "c"
   ]
  },
  {
   "cell_type": "code",
   "execution_count": 193,
   "metadata": {},
   "outputs": [
    {
     "data": {
      "text/plain": [
       "3.4658041735334391"
      ]
     },
     "execution_count": 193,
     "metadata": {},
     "output_type": "execute_result"
    }
   ],
   "source": [
    "mv[-1]"
   ]
  },
  {
   "cell_type": "code",
   "execution_count": 194,
   "metadata": {},
   "outputs": [
    {
     "data": {
      "text/plain": [
       "4.1918001639528724"
      ]
     },
     "execution_count": 194,
     "metadata": {},
     "output_type": "execute_result"
    }
   ],
   "source": [
    "bv[-1]"
   ]
  },
  {
   "cell_type": "code",
   "execution_count": 195,
   "metadata": {},
   "outputs": [
    {
     "data": {
      "image/png": "[encoded data removed]",
      "text/plain": [
       "<matplotlib.figure.Figure at 0x7fd47ba42240>"
      ]
     },
     "metadata": {},
     "output_type": "display_data"
    }
   ],
   "source": [
    "plt.plot(x, mv[-1]*x + bv[-1], 'r')\n",
    "plt.scatter(x,y, s=1.0)\n",
    "plt.show()"
   ]
  },
  {
   "cell_type": "code",
   "execution_count": 196,
   "metadata": {},
   "outputs": [
    {
     "name": "stderr",
     "output_type": "stream",
     "text": [
      "UsageError: %%javascript is a cell magic, but the cell body is empty.\n"
     ]
    }
   ],
   "source": [
    "%%javascript"
   ]
  },
  {
   "cell_type": "code",
   "execution_count": 205,
   "metadata": {
    "scrolled": true,
    "slideshow": {
     "slide_type": "subslide"
    }
   },
   "outputs": [
    {
     "data": {
      "application/vnd.jupyter.widget-view+json": {
       "model_id": "a2504a4fbb164e20aa3028b67522fb97"
      }
     },
     "metadata": {},
     "output_type": "display_data"
    }
   ],
   "source": [
    "\n",
    "from ipywidgets import interact\n",
    "\n",
    "#fig = plt.figure(figsize=(9,6))\n",
    "\n",
    "@interact(index=(0, len(mv)-1, 10))\n",
    "def update_plot(index):\n",
    "    \n",
    "    y_hat = mv[index] * x + bv[index]\n",
    "    \n",
    "    fig = plt.figure(figsize=(9,6))\n",
    "    plt.scatter(x,y,s=1.0,c='blue')\n",
    "    plt.plot(x, y_hat, 'r')\n",
    "    plt.text(0.05, 30.0, r'y = {mv:.2f} x + {bv:.2f}'.format(mv=mv[index], bv=bv[index]))\n",
    "    plt.ylim(0.0, 45.0)\n",
    "    plt.show()\n",
    "    "
   ]
  },
  {
   "cell_type": "code",
   "execution_count": 156,
   "metadata": {
    "collapsed": true,
    "slideshow": {
     "slide_type": "skip"
    }
   },
   "outputs": [
    {
     "data": {
      "application/vnd.jupyter.widget-view+json": {
       "model_id": "a01601bab8384160b88dfe847f18744d"
      }
     },
     "metadata": {},
     "output_type": "display_data"
    }
   ],
   "source": [
    "import matplotlib.pyplot as plt\n",
    "from ipywidgets import interact\n",
    "\n",
    "%matplotlib inline\n",
    "x = [1,2,5,4,3]\n",
    "@interact(n=(2,5))\n",
    "def f(n):\n",
    "    plt.plot(x[:n])\n",
    "    plt.show()"
   ]
  },
  {
   "cell_type": "code",
   "execution_count": null,
   "metadata": {
    "collapsed": true
   },
   "outputs": [],
   "source": []
  }
 ],
 "metadata": {
  "celltoolbar": "Slideshow",
  "kernelspec": {
   "display_name": "Python [conda env:py35]",
   "language": "python",
   "name": "conda-env-py35-py"
  },
  "language_info": {
   "codemirror_mode": {
    "name": "ipython",
    "version": 3
   },
   "file_extension": ".py",
   "mimetype": "text/x-python",
   "name": "python",
   "nbconvert_exporter": "python",
   "pygments_lexer": "ipython3",
   "version": "3.5.3"
  },
  "nbpresent": {
   "slides": {},
   "themes": {
    "default": "1bb1c495-d53b-431d-b203-8d67cd76d0d4",
    "theme": {
     "1bb1c495-d53b-431d-b203-8d67cd76d0d4": {
      "backgrounds": {
       "dc7afa04-bf90-40b1-82a5-726e3cff5267": {
        "background-color": "31af15d2-7e15-44c5-ab5e-e04b16a89eff",
        "id": "dc7afa04-bf90-40b1-82a5-726e3cff5267"
       }
      },
      "id": "1bb1c495-d53b-431d-b203-8d67cd76d0d4",
      "palette": {
       "19cc588f-0593-49c9-9f4b-e4d7cc113b1c": {
        "id": "19cc588f-0593-49c9-9f4b-e4d7cc113b1c",
        "rgb": [
         252,
         252,
         252
        ]
       },
       "31af15d2-7e15-44c5-ab5e-e04b16a89eff": {
        "id": "31af15d2-7e15-44c5-ab5e-e04b16a89eff",
        "rgb": [
         68,
         68,
         68
        ]
       },
       "50f92c45-a630-455b-aec3-788680ec7410": {
        "id": "50f92c45-a630-455b-aec3-788680ec7410",
        "rgb": [
         197,
         226,
         245
        ]
       },
       "c5cc3653-2ee1-402a-aba2-7caae1da4f6c": {
        "id": "c5cc3653-2ee1-402a-aba2-7caae1da4f6c",
        "rgb": [
         43,
         126,
         184
        ]
       },
       "efa7f048-9acb-414c-8b04-a26811511a21": {
        "id": "efa7f048-9acb-414c-8b04-a26811511a21",
        "rgb": [
         25.118061674008803,
         73.60176211453744,
         107.4819383259912
        ]
       }
      },
      "rules": {
       "a": {
        "color": "19cc588f-0593-49c9-9f4b-e4d7cc113b1c"
       },
       "blockquote": {
        "color": "50f92c45-a630-455b-aec3-788680ec7410",
        "font-size": 3
       },
       "code": {
        "font-family": "Anonymous Pro"
       },
       "h1": {
        "color": "19cc588f-0593-49c9-9f4b-e4d7cc113b1c",
        "font-family": "Merriweather",
        "font-size": 8
       },
       "h2": {
        "color": "19cc588f-0593-49c9-9f4b-e4d7cc113b1c",
        "font-family": "Merriweather",
        "font-size": 6
       },
       "h3": {
        "color": "50f92c45-a630-455b-aec3-788680ec7410",
        "font-family": "Lato",
        "font-size": 5.5
       },
       "h4": {
        "color": "c5cc3653-2ee1-402a-aba2-7caae1da4f6c",
        "font-family": "Lato",
        "font-size": 5
       },
       "h5": {
        "font-family": "Lato"
       },
       "h6": {
        "font-family": "Lato"
       },
       "h7": {
        "font-family": "Lato"
       },
       "li": {
        "color": "50f92c45-a630-455b-aec3-788680ec7410",
        "font-size": 3.25
       },
       "pre": {
        "font-family": "Anonymous Pro",
        "font-size": 4
       }
      },
      "text-base": {
       "color": "19cc588f-0593-49c9-9f4b-e4d7cc113b1c",
       "font-family": "Lato",
       "font-size": 4
      }
     },
     "304afc27-36a6-44b8-bc39-6ababf3cbb23": {
      "id": "304afc27-36a6-44b8-bc39-6ababf3cbb23",
      "palette": {
       "19cc588f-0593-49c9-9f4b-e4d7cc113b1c": {
        "id": "19cc588f-0593-49c9-9f4b-e4d7cc113b1c",
        "rgb": [
         252,
         252,
         252
        ]
       },
       "31af15d2-7e15-44c5-ab5e-e04b16a89eff": {
        "id": "31af15d2-7e15-44c5-ab5e-e04b16a89eff",
        "rgb": [
         68,
         68,
         68
        ]
       },
       "50f92c45-a630-455b-aec3-788680ec7410": {
        "id": "50f92c45-a630-455b-aec3-788680ec7410",
        "rgb": [
         155,
         177,
         192
        ]
       },
       "c5cc3653-2ee1-402a-aba2-7caae1da4f6c": {
        "id": "c5cc3653-2ee1-402a-aba2-7caae1da4f6c",
        "rgb": [
         43,
         126,
         184
        ]
       },
       "efa7f048-9acb-414c-8b04-a26811511a21": {
        "id": "efa7f048-9acb-414c-8b04-a26811511a21",
        "rgb": [
         25.118061674008803,
         73.60176211453744,
         107.4819383259912
        ]
       }
      },
      "rules": {
       "blockquote": {
        "color": "50f92c45-a630-455b-aec3-788680ec7410"
       },
       "code": {
        "font-family": "Anonymous Pro"
       },
       "h1": {
        "color": "c5cc3653-2ee1-402a-aba2-7caae1da4f6c",
        "font-family": "Lato",
        "font-size": 8
       },
       "h2": {
        "color": "c5cc3653-2ee1-402a-aba2-7caae1da4f6c",
        "font-family": "Lato",
        "font-size": 6
       },
       "h3": {
        "color": "50f92c45-a630-455b-aec3-788680ec7410",
        "font-family": "Lato",
        "font-size": 5.5
       },
       "h4": {
        "color": "c5cc3653-2ee1-402a-aba2-7caae1da4f6c",
        "font-family": "Lato",
        "font-size": 5
       },
       "h5": {
        "font-family": "Lato"
       },
       "h6": {
        "font-family": "Lato"
       },
       "h7": {
        "font-family": "Lato"
       },
       "pre": {
        "font-family": "Anonymous Pro",
        "font-size": 4
       }
      },
      "text-base": {
       "font-family": "Merriweather",
       "font-size": 4
      }
     }
    }
   }
  },
  "widgets": {
   "application/vnd.jupyter.widget-state+json": {
    "state": {
     "0bfb3422362342ecae6769b2458f5925": {
      "model_module": "jupyter-js-widgets",
      "model_module_version": "~2.1.4",
      "model_name": "VBoxModel",
      "state": {
       "_dom_classes": [
        "widget-interact"
       ],
       "_model_module_version": "~2.1.4",
       "_view_module_version": "~2.1.4",
       "layout": "IPY_MODEL_73f37ce405dc4f5aa80f50dd422b5b51"
      }
     },
     "1d70a331f4454d3f88fc5f6cd721c797": {
      "model_module": "jupyter-js-widgets",
      "model_module_version": "~2.1.4",
      "model_name": "LayoutModel",
      "state": {
       "_model_module_version": "~2.1.4",
       "_view_module_version": "~2.1.4"
      }
     },
     "23f9280dd4b5452fa8b44806b73e930f": {
      "model_module": "jupyter-js-widgets",
      "model_module_version": "~2.1.4",
      "model_name": "IntSliderModel",
      "state": {
       "_model_module_version": "~2.1.4",
       "_view_module_version": "~2.1.4",
       "description": "index",
       "layout": "IPY_MODEL_1d70a331f4454d3f88fc5f6cd721c797",
       "max": 1499,
       "step": 10,
       "style": "IPY_MODEL_98f87d317f6c4ddfa0073d090413bcdc",
       "value": 740
      }
     },
     "338a337fb9aa4ea8affed46d4d3c7377": {
      "model_module": "jupyter-js-widgets",
      "model_module_version": "~2.1.4",
      "model_name": "IntSliderModel",
      "state": {
       "_model_module_version": "~2.1.4",
       "_view_module_version": "~2.1.4",
       "description": "index",
       "layout": "IPY_MODEL_8e4b8a216ba44574a4a38115a40ffcc7",
       "max": 1499,
       "step": 10,
       "style": "IPY_MODEL_e375b9b9aed24347ba2b73996c4de38a",
       "value": 740
      }
     },
     "3cf6000634084f4f8caba9b05c54d69a": {
      "model_module": "jupyter-js-widgets",
      "model_module_version": "~2.1.4",
      "model_name": "LayoutModel",
      "state": {
       "_model_module_version": "~2.1.4",
       "_view_module_version": "~2.1.4"
      }
     },
     "572ff284d4974d7c9934622a8194e074": {
      "model_module": "jupyter-js-widgets",
      "model_module_version": "~2.1.4",
      "model_name": "IntSliderModel",
      "state": {
       "_model_module_version": "~2.1.4",
       "_view_module_version": "~2.1.4",
       "description": "index",
       "layout": "IPY_MODEL_3cf6000634084f4f8caba9b05c54d69a",
       "max": 1499,
       "step": 10,
       "style": "IPY_MODEL_a9645296941f4973a4e052f8030e5688",
       "value": 1490
      }
     },
     "73f37ce405dc4f5aa80f50dd422b5b51": {
      "model_module": "jupyter-js-widgets",
      "model_module_version": "~2.1.4",
      "model_name": "LayoutModel",
      "state": {
       "_model_module_version": "~2.1.4",
       "_view_module_version": "~2.1.4"
      }
     },
     "74c1afdb69104bd3a0b96ed3ac81ff8c": {
      "model_module": "jupyter-js-widgets",
      "model_module_version": "~2.1.4",
      "model_name": "LayoutModel",
      "state": {
       "_model_module_version": "~2.1.4",
       "_view_module_version": "~2.1.4"
      }
     },
     "872799fcb9624977b5b8d53a234d412e": {
      "model_module": "jupyter-js-widgets",
      "model_module_version": "~2.1.4",
      "model_name": "VBoxModel",
      "state": {
       "_dom_classes": [
        "widget-interact"
       ],
       "_model_module_version": "~2.1.4",
       "_view_module_version": "~2.1.4",
       "layout": "IPY_MODEL_cd23d6759715425ba787aa2de8f42304"
      }
     },
     "8e4b8a216ba44574a4a38115a40ffcc7": {
      "model_module": "jupyter-js-widgets",
      "model_module_version": "~2.1.4",
      "model_name": "LayoutModel",
      "state": {
       "_model_module_version": "~2.1.4",
       "_view_module_version": "~2.1.4"
      }
     },
     "98f87d317f6c4ddfa0073d090413bcdc": {
      "model_module": "jupyter-js-widgets",
      "model_module_version": "~2.1.4",
      "model_name": "SliderStyleModel",
      "state": {
       "_model_module_version": "~2.1.4",
       "_view_module_version": "~2.1.4"
      }
     },
     "9e8a22fcb9e74fe9b5542abbfcb12735": {
      "model_module": "jupyter-js-widgets",
      "model_module_version": "~2.1.4",
      "model_name": "LayoutModel",
      "state": {
       "_model_module_version": "~2.1.4",
       "_view_module_version": "~2.1.4"
      }
     },
     "a2504a4fbb164e20aa3028b67522fb97": {
      "model_module": "jupyter-js-widgets",
      "model_module_version": "~2.1.4",
      "model_name": "VBoxModel",
      "state": {
       "_dom_classes": [
        "widget-interact"
       ],
       "_model_module_version": "~2.1.4",
       "_view_module_version": "~2.1.4",
       "children": [
        "IPY_MODEL_572ff284d4974d7c9934622a8194e074",
        "IPY_MODEL_fc787c8ff62945789cfbdb20c967ead7"
       ],
       "layout": "IPY_MODEL_bedade9c4f51407a99ba2d7927040e92"
      }
     },
     "a9645296941f4973a4e052f8030e5688": {
      "model_module": "jupyter-js-widgets",
      "model_module_version": "~2.1.4",
      "model_name": "SliderStyleModel",
      "state": {
       "_model_module_version": "~2.1.4",
       "_view_module_version": "~2.1.4"
      }
     },
     "bedade9c4f51407a99ba2d7927040e92": {
      "model_module": "jupyter-js-widgets",
      "model_module_version": "~2.1.4",
      "model_name": "LayoutModel",
      "state": {
       "_model_module_version": "~2.1.4",
       "_view_module_version": "~2.1.4"
      }
     },
     "cd23d6759715425ba787aa2de8f42304": {
      "model_module": "jupyter-js-widgets",
      "model_module_version": "~2.1.4",
      "model_name": "LayoutModel",
      "state": {
       "_model_module_version": "~2.1.4",
       "_view_module_version": "~2.1.4"
      }
     },
     "e375b9b9aed24347ba2b73996c4de38a": {
      "model_module": "jupyter-js-widgets",
      "model_module_version": "~2.1.4",
      "model_name": "SliderStyleModel",
      "state": {
       "_model_module_version": "~2.1.4",
       "_view_module_version": "~2.1.4"
      }
     },
     "f3f0673848e24d37bec4ae81a3ea0c88": {
      "model_module": "jupyter-js-widgets",
      "model_module_version": "~2.1.4",
      "model_name": "VBoxModel",
      "state": {
       "_dom_classes": [
        "widget-interact"
       ],
       "_model_module_version": "~2.1.4",
       "_view_module_version": "~2.1.4",
       "layout": "IPY_MODEL_74c1afdb69104bd3a0b96ed3ac81ff8c"
      }
     },
     "fc787c8ff62945789cfbdb20c967ead7": {
      "model_module": "jupyter-js-widgets",
      "model_module_version": "~2.1.4",
      "model_name": "OutputModel",
      "state": {
       "_dom_classes": [],
       "_model_module": "jupyter-js-widgets",
       "_model_module_version": "~2.1.4",
       "_view_module": "jupyter-js-widgets",
       "_view_module_version": "~2.1.4",
       "layout": "IPY_MODEL_9e8a22fcb9e74fe9b5542abbfcb12735",
       "msg_throttle": 1
      }
     }
    },
    "version_major": 1,
    "version_minor": 0
   }
  }
 },
 "nbformat": 4,
 "nbformat_minor": 2
}
